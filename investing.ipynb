{
 "cells": [
  {
   "cell_type": "code",
   "execution_count": 1,
   "metadata": {},
   "outputs": [],
   "source": [
    "import math\n",
    "import matplotlib.pyplot as plt \n",
    "from matplotlib.ticker import MultipleLocator\n",
    "import numpy as np\n",
    "import seaborn as sns"
   ]
  },
  {
   "cell_type": "code",
   "execution_count": 2,
   "metadata": {},
   "outputs": [],
   "source": [
    "# constants\n",
    "salary = 100_000\n",
    "rsp_init = 10_000\n",
    "rsp_contr_yr = salary * 0.1\n",
    "\n",
    "roth_ira_max = 7500\n",
    "roth_ira_init = 5_000\n",
    "roth_ira_contr = roth_ira_max/12\n",
    "\n",
    "hysa_init = 1_000\n",
    "hysa_contr = 300\n",
    "hysa_contr_yr = hysa_contr * 12\n"
   ]
  },
  {
   "cell_type": "code",
   "execution_count": 3,
   "metadata": {},
   "outputs": [],
   "source": [
    "def return_on_investment(B, n, M, R, t):\n",
    "    BeRt = B * math.exp(R * t)\n",
    "\n",
    "    monthly_growth = M * (math.exp(R * t) - 1) / (math.exp(R / n) - 1)\n",
    "\n",
    "    return BeRt + monthly_growth\n"
   ]
  },
  {
   "cell_type": "code",
   "execution_count": 4,
   "metadata": {},
   "outputs": [],
   "source": [
    "after_years = [x for x in range(0, 48)] #from now until I'm 60 \n",
    "growth_rate = [-0.01, 0.01, 0.03, 0.05, 0.07, 0.09]"
   ]
  },
  {
   "cell_type": "code",
   "execution_count": 5,
   "metadata": {},
   "outputs": [],
   "source": [
    "predictions = {}\n",
    "\n",
    "\n",
    "\n",
    "for r in growth_rate:\n",
    "    age_pred = [] \n",
    "    for y in after_years:    \n",
    "        rsp = return_on_investment(rsp_init, 26, 0.08*salary/26, r, y) + return_on_investment(rsp_init, 4, 0.1*salary/4, r, y)\n",
    "        \n",
    "        roth_ira = return_on_investment(roth_ira_init, 12, roth_ira_contr, r, y) \n",
    "        \n",
    "        hysa = return_on_investment(hysa_init, 12, hysa_contr, r, y) \n",
    "\n",
    "        age_pred += [rsp + roth_ira + hysa]\n",
    "        \n",
    "    predictions[r] = age_pred\n"
   ]
  },
  {
   "cell_type": "code",
   "execution_count": null,
   "metadata": {},
   "outputs": [],
   "source": [
    "print(f\"401(k) employee + employer yearly contributions: ${int(rsp_contr_yr):,}.\\nRoth IRA yearly contributions: ${roth_ira_max:,}.\\nHYSA yearly contribution: ${hysa_contr_yr:,}.\")\n",
    "\n",
    "age = [x + 23 for x in after_years]\n",
    "\n",
    "sns.set_theme()\n",
    "\n",
    "fig, ax = plt.subplots(figsize=(10, 6))\n",
    "\n",
    "\n",
    "for rate in predictions:\n",
    "    y = np.array(predictions[rate])/1000\n",
    "    if rate == 0.05:\n",
    "        linestyle = None\n",
    "    else:\n",
    "        linestyle = \"--\"\n",
    "    plt.plot(age, y, linestyle=linestyle, label=rate)\n",
    "\n",
    "\n",
    "plt.title('Predicted Retirement Savings')\n",
    "\n",
    "plt.xlabel('Age')\n",
    "ax.xaxis.set_major_locator(MultipleLocator(5))\n",
    "ax.xaxis.set_minor_locator(MultipleLocator(1))\n",
    "\n",
    "plt.ylabel('Estimated Savings (Thousands of $)')\n",
    "ax.yaxis.set_major_locator(MultipleLocator(2000))\n",
    "ax.yaxis.set_minor_locator(MultipleLocator(500))\n",
    "ax.set_ylim(bottom=0)\n",
    "\n",
    "\n",
    "plt.grid(True)\n",
    "\n",
    "plt.legend(title=\"Growth Rate\", bbox_to_anchor=(1, 0.5))\n",
    "\n",
    "# Adjust layout to make room for the legend\n",
    "plt.tight_layout(rect=[0, 0, 0.85, 1])\n",
    "\n",
    "\n",
    "plt.show()\n",
    "\n"
   ]
  }
 ],
 "metadata": {
  "kernelspec": {
   "display_name": "Python 3",
   "language": "python",
   "name": "python3"
  },
  "language_info": {
   "codemirror_mode": {
    "name": "ipython",
    "version": 3
   },
   "file_extension": ".py",
   "mimetype": "text/x-python",
   "name": "python",
   "nbconvert_exporter": "python",
   "pygments_lexer": "ipython3",
   "version": "3.9.1"
  }
 },
 "nbformat": 4,
 "nbformat_minor": 2
}
